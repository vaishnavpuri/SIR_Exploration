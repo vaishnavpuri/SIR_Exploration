{
  "nbformat": 4,
  "nbformat_minor": 0,
  "metadata": {
    "colab": {
      "name": "Exploration.ipynb",
      "provenance": [],
      "collapsed_sections": [],
      "toc_visible": true
    },
    "kernelspec": {
      "name": "python3",
      "display_name": "Python 3"
    }
  },
  "cells": [
    {
      "cell_type": "markdown",
      "metadata": {
        "id": "xZ84pMzq9Xwe"
      },
      "source": [
        "#Exploration of Epidemiology Models\n",
        "###By Vaishnav Puri\n",
        "\n",
        "\n",
        "###Introduction\n",
        "\n",
        "We divided this exploration into 5 sections. In the first part, using a S.I.R model, we tracked the spread of an infectious disease over a one year period. In the second part, we continued to study the S.I.R model with the added feature of slight random daily shifts to the infection (Beta) and recovery (Gamma) rates to simulate the unpredictability of daily virus spread. In the third section, we incorporated the categories deceased and vaccinated into our S.I.R model. In the fourth and fifth section, we studided the S.I.R model in counties with different populations and infection rates over the course of 600 days. Each function is followed by a graph plot of that function. "
      ]
    },
    {
      "cell_type": "markdown",
      "metadata": {
        "id": "_4BOB1IO2mR-"
      },
      "source": [
        "###Part 1\r\n",
        "\r\n",
        "In this section, we will be using a simple S.I.R model that will track the spread of a disease over one year.We will be using the following inputs:\r\n",
        "\r\n",
        "1. `Population = 1,000,000`\r\n",
        "\r\n",
        "2. `Initial Susceptible = 999,000`\r\n",
        "\r\n",
        "3. `Rate of Infection = .03`\r\n",
        "\r\n",
        "4. `Rate of Recovery = .003`\r\n",
        "\r\n"
      ]
    },
    {
      "cell_type": "code",
      "metadata": {
        "id": "9P-fRqzM2CQa"
      },
      "source": [
        "#S.I.R model following a virus over a single year \n",
        "\n",
        "def Virus_1(N,S_t,Beta,Gamma,Phi):\n",
        "  \"\"\"\n",
        "  Inputs: Pop (N), initial susceptible (S_t), rate of infection (Beta), and rate of recovery (Gamma).\n",
        "  Outputs: susceptible Pop, infected , and recovered on day 365. \n",
        "  \"\"\"\n",
        "  I_t=N-S_t\n",
        "  R_t=0\n",
        "  for t in range(1,366):\n",
        "    Delta_R=Gamma*I_t #Change in recovered \n",
        "    Delta_S=Beta*((I_t*S_t)/N)#Change in Sus population \n",
        "    Delta_I=Beta*((I_t*S_t)/N)-(Delta_R) #Change in infeceted minus change in recoverd\n",
        "    S_t_1=S_t-Delta_S\n",
        "    I_t_1=I_t+Delta_I\n",
        "    R_t_1=R_t+Delta_R\n",
        "    #D_t_1=Delta_D\n",
        "    S_t=S_t_1\n",
        "    I_t=I_t_1\n",
        "    R_t=R_t_1\n",
        "    if t%10==0 or t==1: #print every ten days and first day\n",
        "      print(\"Day:\",t,\"Susceptible:\",int(S_t_1), \"Infected:\",int(I_t_1), \"Recovered:\",int(R_t_1))\n"
      ],
      "execution_count": null,
      "outputs": []
    },
    {
      "cell_type": "code",
      "metadata": {
        "id": "rFnaT_k12l3z",
        "colab": {
          "base_uri": "https://localhost:8080/"
        },
        "outputId": "94a71dcf-a9f1-47a5-c7bd-6af92497035a"
      },
      "source": [
        "Virus_1(1000000,999000,.03,.003,.0001)"
      ],
      "execution_count": null,
      "outputs": [
        {
          "output_type": "stream",
          "text": [
            "Day: 1 Susceptible: 998970 Infected: 1026 Recovered: 3\n",
            "Day: 10 Susceptible: 998661 Infected: 1304 Recovered: 33\n",
            "Day: 20 Susceptible: 998219 Infected: 1702 Recovered: 78\n",
            "Day: 30 Susceptible: 997643 Infected: 2220 Recovered: 135\n",
            "Day: 40 Susceptible: 996892 Infected: 2896 Recovered: 211\n",
            "Day: 50 Susceptible: 995913 Infected: 3776 Recovered: 309\n",
            "Day: 60 Susceptible: 994639 Infected: 4923 Recovered: 437\n",
            "Day: 70 Susceptible: 992980 Infected: 6414 Recovered: 604\n",
            "Day: 80 Susceptible: 990824 Infected: 8353 Recovered: 821\n",
            "Day: 90 Susceptible: 988024 Infected: 10871 Recovered: 1104\n",
            "Day: 100 Susceptible: 984393 Infected: 14133 Recovered: 1472\n",
            "Day: 110 Susceptible: 979694 Infected: 18353 Recovered: 1951\n",
            "Day: 120 Susceptible: 973630 Infected: 23797 Recovered: 2571\n",
            "Day: 130 Susceptible: 965830 Infected: 30793 Recovered: 3375\n",
            "Day: 140 Susceptible: 955839 Infected: 39744 Recovered: 4415\n",
            "Day: 150 Susceptible: 943114 Infected: 51131 Recovered: 5754\n",
            "Day: 160 Susceptible: 927019 Infected: 65506 Recovered: 7474\n",
            "Day: 170 Susceptible: 906841 Infected: 83485 Recovered: 9672\n",
            "Day: 180 Susceptible: 881826 Infected: 105707 Recovered: 12465\n",
            "Day: 190 Susceptible: 851239 Infected: 132770 Recovered: 15989\n",
            "Day: 200 Susceptible: 814464 Infected: 165139 Recovered: 20396\n",
            "Day: 210 Susceptible: 771133 Infected: 203018 Recovered: 25848\n",
            "Day: 220 Susceptible: 721279 Infected: 246211 Recovered: 32509\n",
            "Day: 230 Susceptible: 665465 Infected: 294003 Recovered: 40530\n",
            "Day: 240 Susceptible: 604857 Infected: 345107 Recovered: 50034\n",
            "Day: 250 Susceptible: 541180 Infected: 397722 Recovered: 61097\n",
            "Day: 260 Susceptible: 476547 Infected: 449717 Recovered: 73734\n",
            "Day: 270 Susceptible: 413187 Infected: 498912 Recovered: 87900\n",
            "Day: 280 Susceptible: 353138 Infected: 543379 Recovered: 103481\n",
            "Day: 290 Susceptible: 297994 Infected: 581688 Recovered: 120316\n",
            "Day: 300 Susceptible: 248773 Infected: 613018 Recovered: 138208\n",
            "Day: 310 Susceptible: 205906 Infected: 637151 Recovered: 156942\n",
            "Day: 320 Susceptible: 169337 Infected: 654357 Recovered: 176305\n",
            "Day: 330 Susceptible: 138653 Infected: 665248 Recovered: 196097\n",
            "Day: 340 Susceptible: 113241 Infected: 670618 Recovered: 216140\n",
            "Day: 350 Susceptible: 92395 Infected: 671325 Recovered: 236278\n",
            "Day: 360 Susceptible: 75412 Infected: 668202 Recovered: 256385\n"
          ],
          "name": "stdout"
        }
      ]
    },
    {
      "cell_type": "markdown",
      "metadata": {
        "id": "R0_hQHGG3NbV"
      },
      "source": [
        "###Part 2 \r\n",
        "\r\n",
        "This part will use the same S.I.R model with the added feature of a minimal random daily shifts to the infection (Beta) and recovery (Gamma) rates to simulate some unpredictability of daily virus spread. With these very slight  changes, it helps us create a more realistic scenerio than the first section. For example, Gamma might change due to improvements in medicine and treatment methods for patients infected with the virus. On the other hand, Beta might change due to measures like social distancing or mask wearing. The inputs that we are using are the exact same as section 1:\r\n",
        "\r\n",
        "1. `Population = 1,000,000`\r\n",
        "\r\n",
        "2. `Initial Susceptible = 999,000`\r\n",
        "\r\n",
        "3. `Rate of Infection = .03`\r\n",
        "\r\n",
        "4. `Rate of Recovery = .003`"
      ]
    },
    {
      "cell_type": "code",
      "metadata": {
        "id": "oGVlyFai9OgE"
      },
      "source": [
        "#S.I.R model following a virus over a single year with slight changes to Beta and Gamma values.\n",
        "\n",
        "days_1=[]#Creating empty list for plot\n",
        "Sus_1=[]#Creating empty list for plot\n",
        "Inf_1=[]#Creating list empty for plot\n",
        "Rec_1=[]#Creating empty for plot\n",
        "\n",
        "import random\n",
        "\n",
        "def Virus_2(N,S_t,Beta,Gamma,Phi):\n",
        "  \"\"\"\n",
        "  Inputs: Pop (N), initial susceptible (S_t), rate of infection (Beta), and rate of recovery (Gamma).\n",
        "  Outputs: susceptible Pop, infected , and recovered on day 365. \n",
        "  \"\"\"\n",
        "  I_t=N-S_t\n",
        "  R_t=0\n",
        "  for t in range(1,366):\n",
        "    delta(Gamma,Beta,N,I_t,S_t)\n",
        "    S_t_1=S_t-Delta_S\n",
        "    I_t_1=I_t+Delta_I\n",
        "    R_t_1=R_t+Delta_R\n",
        "    S_t=S_t_1\n",
        "    I_t=I_t_1\n",
        "    R_t=R_t_1\n",
        "\n",
        "    days_1.append(t)#Creating list of days \n",
        "    Sus_1.append(S_t_1) #Creating list of Sus pop\n",
        "    Inf_1.append(I_t_1) #Creating list of Sus pop\n",
        "    Rec_1.append(R_t_1) #Creating list of Sus pop\n",
        "\n",
        "    if t%10==0 or t==1: # print on 1st day and every ten days \n",
        "      print(\"Day:\",t,\"Susceptible:\",int(S_t_1), \"Infected:\",int(I_t_1), \"Recovered:\",int(R_t_1))\n",
        "\n",
        "    Beta += random.uniform(-.002,.002) #Randomly selects a value from the interval (-.002,.002) to add to Beta\n",
        "    Gamma += random.uniform(-.0002,.0002) #Randomly selects a value from the interval (-.002,.002) to add to Gamma\n",
        "\n",
        "def delta(Gamma,Beta,N,I_t,S_t):\n",
        "    global Delta_R \n",
        "    global Delta_S\n",
        "    global Delta_I\n",
        "\n",
        "    # Change in recovered\n",
        "    Delta_R = Gamma*I_t  \n",
        "\n",
        "    # Change in susceptible population                               \n",
        "    Delta_S =Beta*((I_t*S_t)/N) \n",
        "\n",
        "    # Change in infected                     \n",
        "    Delta_I=Beta*((I_t*S_t)/N)-(Delta_R)   \n",
        "\n",
        "    return [Delta_S,Delta_I,Delta_R]"
      ],
      "execution_count": null,
      "outputs": []
    },
    {
      "cell_type": "code",
      "metadata": {
        "id": "wwTVNMlN-QY1",
        "colab": {
          "base_uri": "https://localhost:8080/"
        },
        "outputId": "8129a42c-1513-43f7-ca11-b00b9df49dc1"
      },
      "source": [
        "Virus_2(1000000,999000,.03,.003,.0001)"
      ],
      "execution_count": null,
      "outputs": [
        {
          "output_type": "stream",
          "text": [
            "Day: 1 Susceptible: 998970 Infected: 1026 Recovered: 3\n",
            "Day: 10 Susceptible: 998672 Infected: 1292 Recovered: 35\n",
            "Day: 20 Susceptible: 998199 Infected: 1713 Recovered: 87\n",
            "Day: 30 Susceptible: 997472 Infected: 2366 Recovered: 160\n",
            "Day: 40 Susceptible: 996619 Infected: 3127 Recovered: 252\n",
            "Day: 50 Susceptible: 995483 Infected: 4129 Recovered: 387\n",
            "Day: 60 Susceptible: 993852 Infected: 5567 Recovered: 579\n",
            "Day: 70 Susceptible: 992038 Infected: 7125 Recovered: 835\n",
            "Day: 80 Susceptible: 989601 Infected: 9218 Recovered: 1179\n",
            "Day: 90 Susceptible: 986185 Infected: 12170 Recovered: 1643\n",
            "Day: 100 Susceptible: 981422 Infected: 16314 Recovered: 2262\n",
            "Day: 110 Susceptible: 975091 Infected: 21862 Recovered: 3046\n",
            "Day: 120 Susceptible: 966141 Infected: 29830 Recovered: 4028\n",
            "Day: 130 Susceptible: 952927 Infected: 41588 Recovered: 5483\n",
            "Day: 140 Susceptible: 931325 Infected: 61121 Recovered: 7552\n",
            "Day: 150 Susceptible: 897098 Infected: 92173 Recovered: 10728\n",
            "Day: 160 Susceptible: 853925 Infected: 130323 Recovered: 15750\n",
            "Day: 170 Susceptible: 803689 Infected: 173221 Recovered: 23088\n",
            "Day: 180 Susceptible: 749641 Infected: 217106 Recovered: 33251\n",
            "Day: 190 Susceptible: 692433 Infected: 261370 Recovered: 46196\n",
            "Day: 200 Susceptible: 627125 Infected: 311927 Recovered: 60946\n",
            "Day: 210 Susceptible: 544843 Infected: 376372 Recovered: 78783\n",
            "Day: 220 Susceptible: 458673 Infected: 441140 Recovered: 100185\n",
            "Day: 230 Susceptible: 377727 Infected: 496751 Recovered: 125520\n",
            "Day: 240 Susceptible: 307518 Infected: 539216 Recovered: 153264\n",
            "Day: 250 Susceptible: 248571 Infected: 569168 Recovered: 182260\n",
            "Day: 260 Susceptible: 200202 Infected: 590489 Recovered: 209307\n",
            "Day: 270 Susceptible: 160384 Infected: 604937 Recovered: 234677\n",
            "Day: 280 Susceptible: 124247 Infected: 616017 Recovered: 259734\n",
            "Day: 290 Susceptible: 95252 Infected: 620955 Recovered: 283791\n",
            "Day: 300 Susceptible: 74328 Infected: 616864 Recovered: 308807\n",
            "Day: 310 Susceptible: 58064 Infected: 607777 Recovered: 334158\n",
            "Day: 320 Susceptible: 45524 Infected: 595339 Recovered: 359135\n",
            "Day: 330 Susceptible: 35020 Infected: 581426 Recovered: 383552\n",
            "Day: 340 Susceptible: 26887 Infected: 562198 Recovered: 410913\n",
            "Day: 350 Susceptible: 21072 Infected: 540986 Recovered: 437940\n",
            "Day: 360 Susceptible: 17115 Infected: 519257 Recovered: 463627\n"
          ],
          "name": "stdout"
        }
      ]
    },
    {
      "cell_type": "code",
      "metadata": {
        "colab": {
          "base_uri": "https://localhost:8080/",
          "height": 295
        },
        "id": "lDxi9-Cl7M9J",
        "outputId": "45f0eeda-aebf-48a1-d9a7-6bb63eb301ec"
      },
      "source": [
        "#This cell plots the outputs of the above cell\n",
        "import matplotlib.pyplot as plt\n",
        "\n",
        "plt.figure(figsize=(10, 4)) #figure size \n",
        "plt.title('Plot_SIR_Changing Beta & Gamma')#Title of plot \n",
        "plt.xlabel('Days')#x axis label\n",
        "plt.ylabel('Population')#y axis label\n",
        "plt.xticks(range(0, len(days_1), 20)) #Start, end, and number of tick marks on the x axis  \n",
        "plt.plot(days_1,Sus_1,label='Susceptible')\n",
        "plt.plot(days_1,Inf_1,label='Infected')\n",
        "plt.plot(days_1,Rec_1,label='Recovered')\n",
        "plt.legend(); #Displays legend. Semicolon stops read out from appearing above plot"
      ],
      "execution_count": null,
      "outputs": [
        {
          "output_type": "display_data",
          "data": {
            "image/png": "[encoded data removed]",
            "text/plain": [
              "<Figure size 720x288 with 1 Axes>"
            ]
          },
          "metadata": {
            "tags": [],
            "needs_background": "light"
          }
        }
      ]
    },
    {
      "cell_type": "markdown",
      "metadata": {
        "id": "phMquL953ct0"
      },
      "source": [
        "###Part 3\r\n",
        "\r\n",
        "In this section, we incorporated the categories deceased and vaccinated into our S.I.R model. Adding these categories just simply adds more layers and more numbers to use for data. The inputs that we used this this section are:\r\n",
        "\r\n",
        "\r\n",
        "1. `Population = 1,000,000`\r\n",
        "\r\n",
        "2. `Initial Susceptible = 999,000`\r\n",
        "\r\n",
        "3. `Rate of Infection = .032`\r\n",
        "\r\n",
        "4. `Rate of Recovery = .004`\r\n",
        "\r\n",
        "5. `Death Rate = .0006`\r\n",
        "\r\n",
        "6. `Rate of Infection = .013`"
      ]
    },
    {
      "cell_type": "code",
      "metadata": {
        "id": "4B2-Ebmnk7J_"
      },
      "source": [
        "\n",
        "#S.I.R model with the addition of the groups deceased and vaccinated.\n",
        "days_2=[]#Creating empty list for plot\n",
        "Sus_2=[]#Creating empty list for plot\n",
        "Inf_2=[]#Creating empty list for plot\n",
        "Rec_2=[]#Creating empty list for plot\n",
        "Vac=[]#Creating empty list for plot\n",
        "Dec=[]#Creating empty list for plot\n",
        "\n",
        "def virus_3(N,S_t,Beta, Gamma, Theta, Phi):\n",
        "  \"\"\"\n",
        "  Inputs: Pop (N), initial susceptible (S_t), rate of infection (Beta), rate of recovery (Gamma), death rate, and rate of vaccination.\n",
        "  Outputs: susceptible, infected, recovered, dead, and vaccinated populations. \n",
        "  \"\"\"\n",
        "  I_t=N-S_t #Initial Infected \n",
        "  R_t=0 #Initial Recovered \n",
        "  D_t=0 #Intial Dead\n",
        "  V_t=0 #Initial Vaccinated \n",
        "\n",
        "  #Column Formatting \n",
        "  TitleDay=\"Day\" # Title of column 1\n",
        "  TitleSusceptible=\"Susceptible\" # Title of column 2\n",
        "  TitleInfected=\"Infected\" # Title of column 3\n",
        "  TitleRecovered=\"Recovered\" # Title of column 4\n",
        "  TitleDeceased=\"Deceased\" # Title of column 5\n",
        "  TitleVaccinated=\"Vaccinated\" # Title of column 6\n",
        "  print(\"%-10s%-15s%-15s%-15s%-15s%-15s\"%(TitleDay, TitleSusceptible, TitleInfected, TitleRecovered, TitleDeceased, TitleVaccinated)) #Column name placement\n",
        "  print(\"%-10s%-15s%-15s%-15s%-15s%-15s\"%(0, int(S_t),int( I_t),int( R_t),int( D_t), int(V_t))) #Print out of initial conditions \n",
        "  #End formatting \n",
        "\n",
        "  infected=[]#Creating empty list for plot\n",
        "  days=[]#Creating empty list for plot\n",
        "  recovered=[]#Creating list empty for plot\n",
        "  sus=[]#Creating empty for plot\n",
        "\n",
        "  for t in range(1,360):\n",
        "    Delta_D=Theta*I_t #Change in deceased \n",
        "    Delta_R=Gamma*I_t #Change in recovered \n",
        "    Delta_V=Phi*I_t #Change in vaccinated \n",
        "    Delta_S=Beta*((I_t*S_t)/N)#Change in susceptible \n",
        "    Delta_I=Beta*((I_t*S_t)/N) #Change in infeceted  \n",
        "\n",
        "    S_t_1=S_t-Delta_S-Delta_V #Predicting susceptible pop\n",
        "    I_t_1=I_t+Delta_I-Delta_R #Predicting infected pop\n",
        "    R_t_1=R_t+Delta_R-Delta_D #Predicting recovered pop\n",
        "    D_t_1=D_t+Delta_D #Predicting deceased pop\n",
        "    V_t_1=V_t+Delta_V #Predicting vaccinated pop\n",
        "\n",
        "    #Redifining variables \n",
        "    S_t=S_t_1\n",
        "    I_t=I_t_1\n",
        "    R_t=R_t_1\n",
        "    D_t=D_t_1\n",
        "    V_t=V_t_1\n",
        "    if S_t_1<=0:#in case susceptible pop drops below zero \n",
        "      S_t_1=0\n",
        "      \n",
        "      #Appending lists\n",
        "    days_2.append(t) #Converting Days into list\n",
        "    Inf_2.append(I_t_1) #Converting the output of daily infection pop into list  \n",
        "    Rec_2.append(R_t_1) #Converting recovered pop into list \n",
        "    Sus_2.append(S_t_1) #Converting sus pop into list\n",
        "    Dec.append(D_t_1) #Converting Vac pop into list\n",
        "    Vac.append(V_t_1) #Converting Dec pop into list\n",
        "\n",
        "    if t%10==0 or t==1:#print every ten days and first day\n",
        "      print(\"%-10s%-15s%-15s%-15s%-15s%-15s\"%(t,int(S_t_1),int( I_t_1),int( R_t_1),int( D_t_1), int(V_t_1)))\n",
        "  "
      ],
      "execution_count": null,
      "outputs": []
    },
    {
      "cell_type": "code",
      "metadata": {
        "colab": {
          "base_uri": "https://localhost:8080/"
        },
        "id": "NgbUUfHolFTn",
        "outputId": "a233aa4d-1d39-483b-daac-9503c0eb0cb4"
      },
      "source": [
        "virus_3(1000000,999000,.032,.004, .0006, .013)"
      ],
      "execution_count": null,
      "outputs": [
        {
          "output_type": "stream",
          "text": [
            "Day       Susceptible    Infected       Recovered      Deceased       Vaccinated     \n",
            "0         999000         1000           0              0              0              \n",
            "1         998955         1027           3              0              13             \n",
            "10        998489         1317           38             6              147            \n",
            "20        997816         1735           89             15             342            \n",
            "30        996931         2285           156            27             598            \n",
            "40        995766         3009           244            43             935            \n",
            "50        994235         3960           360            63             1379           \n",
            "60        992222         5209           513            90             1964           \n",
            "70        989579         6847           714            126            2732           \n",
            "80        986115         8991           978            172            3741           \n",
            "90        981581         11793          1325           233            5066           \n",
            "100       975660         15442          1779           313            6803           \n",
            "110       967953         20180          2373           418            9074           \n",
            "120       957957         26299          3148           555            12039          \n",
            "130       945058         34153          4157           733            15897          \n",
            "140       928519         44153          5465           964            20896          \n",
            "150       907488         56754          7151           1262           27343          \n",
            "160       881023         72419          9311           1643           35602          \n",
            "170       848150         91567          12056          2127           46098          \n",
            "180       807973         114479         15509          2736           59301          \n",
            "190       759823         141176         19799          3494           75705          \n",
            "200       703447         171292         25052          4420           95787          \n",
            "210       639195         203952         31370          5535           119945         \n",
            "220       568155         237739         38820          6850           148432         \n",
            "230       492151         270775         47414          8367           181290         \n",
            "240       413585         300947         57093          10075          218298         \n",
            "250       335121         326234         67728          11952          258963         \n",
            "260       259311         345046         79128          13963          302550         \n",
            "270       188259         356460         91056          16068          348155         \n",
            "280       123420         360302         103255         18221          394799         \n",
            "290       65562          357063         115474         20377          441521         \n",
            "300       14853          347709         127487         22497          487451         \n",
            "310       0              333467         139103         24547          531866         \n",
            "320       0              315625         150176         26501          574205         \n",
            "330       0              295397         160603         28341          614072         \n",
            "340       0              273836         170319         30056          651222         \n",
            "350       0              251804         179293         31639          685533         \n"
          ],
          "name": "stdout"
        }
      ]
    },
    {
      "cell_type": "code",
      "metadata": {
        "id": "NKGoAETnYtHI",
        "colab": {
          "base_uri": "https://localhost:8080/",
          "height": 295
        },
        "outputId": "7de50b88-afa7-438b-a739-c0710d4cee45"
      },
      "source": [
        "#This cell plots the outputs of the above cell\n",
        "import matplotlib.pyplot as plt\n",
        "\n",
        "plt.figure(figsize=(10, 4)) #figure size \n",
        "plt.title('Plot_SIRDV')#Title of plot \n",
        "plt.xlabel('Days')#x axis label\n",
        "plt.ylabel('Population')#y axis label\n",
        "plt.xticks(range(0, len(days_2), 20)) #Start, end, and number of tick marks on the x axis  \n",
        "plt.plot(days_2,Inf_2,label='Infected')\n",
        "plt.plot(days_2,Rec_2,label='Recovered')\n",
        "plt.plot(days_2,Sus_2,label='Susceptible')\n",
        "plt.plot(days_2,Vac,label='Vaccinated')\n",
        "plt.plot(days_2,Dec,label='Deceased')\n",
        "plt.legend(); #Displays legend. Semicolon stops read out from appearing above plot"
      ],
      "execution_count": null,
      "outputs": [
        {
          "output_type": "display_data",
          "data": {
            "image/png": "[encoded data removed]",
            "text/plain": [
              "<Figure size 720x288 with 1 Axes>"
            ]
          },
          "metadata": {
            "tags": [],
            "needs_background": "light"
          }
        }
      ]
    },
    {
      "cell_type": "markdown",
      "metadata": {
        "id": "t30kX3LWeuR6"
      },
      "source": [
        "###Comments on part 3 \n",
        "1. After working out the intial kinks in the code I was frustrated that my \n",
        "outputs continued to look crazy and the sum of my number of my susceptible, Infected and Recovered populations was not equivalent to my initial pop, N. I realized that my selected values for Beta and Gamma were far to large and my that was a slight issue in my effected pop formula. \n"
      ]
    },
    {
      "cell_type": "markdown",
      "metadata": {
        "id": "ExMQAFFkGrEt"
      },
      "source": [
        "### Part 4\r\n",
        "\r\n",
        "For the next two sections, we have two different S.I.R models intended to represent two counties with different populations and infection rates over the course of 600 days. This gives us an example of how a disease could spread in real life in different societies. The inputs we will be using for the fourth section will be the following:\r\n",
        "\r\n",
        "\r\n",
        "1. `Population = 10,400,000`\r\n",
        "\r\n",
        "2. `Initial Susceptible = 9,990,000`\r\n",
        "\r\n",
        "3. `Rate of Infection = .056`\r\n",
        "\r\n",
        "4. `Rate of Recovery = .006`\r\n",
        "\r\n",
        "5. `Rate of Infection = .001`"
      ]
    },
    {
      "cell_type": "code",
      "metadata": {
        "id": "GRIakyyzGqx5"
      },
      "source": [
        "#S.I.R model following a virus in a county with a population of 10,400,000 over 600 days. \n",
        "\n",
        "# Create empty lists for plotting\n",
        "Infected=[]\n",
        "Days=[]\n",
        "Recovered=[]\n",
        "Susceptible=[]\n",
        "\n",
        "def Virus4(N,S_t,Beta,Gamma,Phi):\n",
        "  \n",
        "  I_t=N-S_t #Initial Infected \n",
        "  R_t=0 #Initial Recovered \n",
        "  for t in range(1,600):\n",
        "    Delta_R=Gamma*I_t #Change in recovered \n",
        "    Delta_S=Beta*((I_t*S_t)/N)#Change in S population \n",
        "    Delta_I=Beta*((I_t*S_t)/N)-(Delta_R) #Change in infeceted minus change in recoverd\n",
        "    S_t_1=S_t-Delta_S #susceptible population\n",
        "    I_t_1=I_t+Delta_I #infected population\n",
        "    R_t_1=R_t+Delta_R #recovered population\n",
        "    # redefine variables \n",
        "    S_t=S_t_1\n",
        "    I_t=I_t_1\n",
        "    R_t=R_t_1\n",
        "\n",
        "    #Appending values into the list\n",
        "    Days.append(t) \n",
        "    Infected.append(I_t_1) \n",
        "    Recovered.append(R_t_1) \n",
        "    Susceptible.append(S_t_1) \n",
        "    \n",
        "    if t%10==0 or t==1:\n",
        "      print(\"Days:\",t,\"Susceptible:\",int(S_t_1), \"Infected:\",int(I_t_1), \"Recovered:\",int(R_t_1))\n"
      ],
      "execution_count": null,
      "outputs": []
    },
    {
      "cell_type": "code",
      "metadata": {
        "colab": {
          "base_uri": "https://localhost:8080/"
        },
        "id": "fuBXLM9qG5mS",
        "outputId": "3326b26e-f919-42c0-f2fe-b413b710aa3a"
      },
      "source": [
        "\n",
        "Virus4(10400000,9990000,0.056,0.006,0.001)"
      ],
      "execution_count": null,
      "outputs": [
        {
          "output_type": "stream",
          "text": [
            "Days: 1 Susceptible: 9967945 Infected: 429594 Recovered: 2460\n",
            "Days: 10 Susceptible: 9719249 Infected: 650177 Recovered: 30573\n",
            "Days: 20 Susceptible: 9307637 Infected: 1013676 Recovered: 78686\n",
            "Days: 30 Susceptible: 8706441 Infected: 1540720 Recovered: 152838\n",
            "Days: 40 Susceptible: 7877980 Infected: 2258324 Recovered: 263695\n",
            "Days: 50 Susceptible: 6823797 Infected: 3153588 Recovered: 422613\n",
            "Days: 60 Susceptible: 5610998 Infected: 4150469 Recovered: 638532\n",
            "Days: 70 Susceptible: 4367614 Infected: 5118192 Recovered: 914193\n",
            "Days: 80 Susceptible: 3233928 Infected: 5922004 Recovered: 1244066\n",
            "Days: 90 Susceptible: 2303486 Infected: 6480744 Recovered: 1615769\n",
            "Days: 100 Susceptible: 1600749 Infected: 6785227 Recovered: 2014022\n",
            "Days: 110 Susceptible: 1099811 Infected: 6875688 Recovered: 2424500\n",
            "Days: 120 Susceptible: 754999 Infected: 6809118 Recovered: 2835881\n",
            "Days: 130 Susceptible: 521706 Infected: 6638077 Recovered: 3240215\n",
            "Days: 140 Susceptible: 364603 Infected: 6403005 Recovered: 3632390\n",
            "Days: 150 Susceptible: 258430 Infected: 6132187 Recovered: 4009381\n",
            "Days: 160 Susceptible: 186051 Infected: 5844357 Recovered: 4369591\n",
            "Days: 170 Susceptible: 136126 Infected: 5551523 Recovered: 4712349\n",
            "Days: 180 Susceptible: 101227 Infected: 5261196 Recovered: 5037575\n",
            "Days: 190 Susceptible: 76484 Infected: 4977958 Recovered: 5345557\n",
            "Days: 200 Susceptible: 58688 Infected: 4704513 Recovered: 5636798\n",
            "Days: 210 Susceptible: 45705 Infected: 4442361 Recovered: 5911932\n",
            "Days: 220 Susceptible: 36102 Infected: 4192236 Recovered: 6171660\n",
            "Days: 230 Susceptible: 28904 Infected: 3954383 Recovered: 6416712\n",
            "Days: 240 Susceptible: 23439 Infected: 3728737 Recovered: 6647822\n",
            "Days: 250 Susceptible: 19238 Infected: 3515042 Recovered: 6865718\n",
            "Days: 260 Susceptible: 15972 Infected: 3312919 Recovered: 7071107\n",
            "Days: 270 Susceptible: 13405 Infected: 3121922 Recovered: 7264672\n",
            "Days: 280 Susceptible: 11365 Infected: 2941567 Recovered: 7447066\n",
            "Days: 290 Susceptible: 9729 Infected: 2771354 Recovered: 7618915\n",
            "Days: 300 Susceptible: 8404 Infected: 2610779 Recovered: 7780815\n",
            "Days: 310 Susceptible: 7322 Infected: 2459347 Recovered: 7933329\n",
            "Days: 320 Susceptible: 6431 Infected: 2316574 Recovered: 8076993\n",
            "Days: 330 Susceptible: 5691 Infected: 2181993 Recovered: 8212315\n",
            "Days: 340 Susceptible: 5073 Infected: 2055153 Recovered: 8339772\n",
            "Days: 350 Susceptible: 4552 Infected: 1935627 Recovered: 8459819\n",
            "Days: 360 Susceptible: 4111 Infected: 1823005 Recovered: 8572883\n",
            "Days: 370 Susceptible: 3734 Infected: 1716897 Recovered: 8679367\n",
            "Days: 380 Susceptible: 3411 Infected: 1616935 Recovered: 8779652\n",
            "Days: 390 Susceptible: 3133 Infected: 1522768 Recovered: 8874098\n",
            "Days: 400 Susceptible: 2892 Infected: 1434064 Recovered: 8963043\n",
            "Days: 410 Susceptible: 2681 Infected: 1350511 Recovered: 9046806\n",
            "Days: 420 Susceptible: 2498 Infected: 1271812 Recovered: 9125688\n",
            "Days: 430 Susceptible: 2336 Infected: 1197689 Recovered: 9199974\n",
            "Days: 440 Susceptible: 2193 Infected: 1127876 Recovered: 9269930\n",
            "Days: 450 Susceptible: 2067 Infected: 1062124 Recovered: 9335807\n",
            "Days: 460 Susceptible: 1955 Infected: 1000199 Recovered: 9397845\n",
            "Days: 470 Susceptible: 1855 Infected: 941879 Recovered: 9456265\n",
            "Days: 480 Susceptible: 1765 Infected: 886955 Recovered: 9511278\n",
            "Days: 490 Susceptible: 1685 Infected: 835230 Recovered: 9563084\n",
            "Days: 500 Susceptible: 1612 Infected: 786519 Recovered: 9611868\n",
            "Days: 510 Susceptible: 1547 Infected: 740645 Recovered: 9657807\n",
            "Days: 520 Susceptible: 1488 Infected: 697444 Recovered: 9701066\n",
            "Days: 530 Susceptible: 1434 Infected: 656762 Recovered: 9741802\n",
            "Days: 540 Susceptible: 1386 Infected: 618451 Recovered: 9780162\n",
            "Days: 550 Susceptible: 1342 Infected: 582373 Recovered: 9816284\n",
            "Days: 560 Susceptible: 1301 Infected: 548398 Recovered: 9850299\n",
            "Days: 570 Susceptible: 1264 Infected: 516404 Recovered: 9882330\n",
            "Days: 580 Susceptible: 1230 Infected: 486276 Recovered: 9912492\n",
            "Days: 590 Susceptible: 1199 Infected: 457905 Recovered: 9940894\n"
          ],
          "name": "stdout"
        }
      ]
    },
    {
      "cell_type": "code",
      "metadata": {
        "colab": {
          "base_uri": "https://localhost:8080/",
          "height": 350
        },
        "id": "nQWsgPTiG-8E",
        "outputId": "eab32b5d-a724-4912-f47d-0a21835b5baa"
      },
      "source": [
        "import  matplotlib.pyplot as plt\n",
        "\n",
        "plt.figure(figsize=(17, 5)) #figure size \n",
        "plt.title('County with large population plot')#Title of plot \n",
        "plt.xlabel('Days')#x axis label\n",
        "plt.ylabel('Population')#y axis label\n",
        "plt.xticks(range(0,len(Days),20)) #Start, end, and number of tick marks on the x axis  \n",
        "plt.plot(Days,Susceptible,label='Susceptible')\n",
        "plt.plot(Days,Infected,label='Infected')\n",
        "plt.plot(Days,Recovered,label='Recovered')\n",
        "plt.legend(); #Displays legend. Semicolon stops read out from appearing above plot\n"
      ],
      "execution_count": null,
      "outputs": [
        {
          "output_type": "display_data",
          "data": {
            "image/png": "[encoded data removed]",
            "text/plain": [
              "<Figure size 1224x360 with 1 Axes>"
            ]
          },
          "metadata": {
            "tags": [],
            "needs_background": "light"
          }
        }
      ]
    },
    {
      "cell_type": "markdown",
      "metadata": {
        "id": "6GeXFTp0HCRf"
      },
      "source": [
        "###Part 5\r\n",
        "\r\n",
        "Finally, this last section will have the county that will have the following inputs:\r\n",
        "\r\n",
        "\r\n",
        "1. `Population = 100,000`\r\n",
        "\r\n",
        "2. `Initial Susceptible = 9,990`\r\n",
        "\r\n",
        "3. `Rate of Infection = .006`\r\n",
        "\r\n",
        "4. `Rate of Recovery = .06`\r\n",
        "\r\n",
        "5. `Rate of Infection = .001`"
      ]
    },
    {
      "cell_type": "code",
      "metadata": {
        "id": "akEHqTGdHDi1"
      },
      "source": [
        "#S.I.R model following a virus in a country with a population of 100,000 over 600 days. \n",
        "\n",
        "# Create empty lists for plotting\n",
        "Infected=[]\n",
        "Days=[]\n",
        "Recovered=[]\n",
        "Susceptible=[]\n",
        "\n",
        "def Virus5(N,S_t,Beta,Gamma,Phi):\n",
        "  \n",
        "  I_t=N-S_t #Initial Infected \n",
        "  R_t=0 #Initial Recovered \n",
        "  for t in range(1,600):\n",
        "    Delta_R=Gamma*I_t #Change in recovered \n",
        "    Delta_S=Beta*((I_t*S_t)/N)#Change in S population \n",
        "    Delta_I=Beta*((I_t*S_t)/N)-(Delta_R) #Change in infeceted minus change in recoverd\n",
        "    S_t_1=S_t-Delta_S #susceptible population\n",
        "    I_t_1=I_t+Delta_I #infected population\n",
        "    R_t_1=R_t+Delta_R #recovered population\n",
        "    # redefine variables \n",
        "    S_t=S_t_1\n",
        "    I_t=I_t_1\n",
        "    R_t=R_t_1\n",
        "\n",
        "    #Appending values into the list\n",
        "    Days.append(t) \n",
        "    Infected.append(I_t_1) \n",
        "    Recovered.append(R_t_1) \n",
        "    Susceptible.append(S_t_1) \n",
        "    \n",
        "    if t%10==0 or t==1:\n",
        "      print(\"Days:\",t,\"Susceptible:\",int(S_t_1), \"Infected:\",int(I_t_1), \"Recovered:\",int(R_t_1))\n"
      ],
      "execution_count": null,
      "outputs": []
    },
    {
      "cell_type": "code",
      "metadata": {
        "colab": {
          "base_uri": "https://localhost:8080/"
        },
        "id": "P8Xu9rgjHGc2",
        "outputId": "cc4c6e0c-2565-4c0d-e78c-95e977f15e72"
      },
      "source": [
        "#\n",
        "Virus5(100000,9990,0.006,0.06,0.001)"
      ],
      "execution_count": null,
      "outputs": [
        {
          "output_type": "stream",
          "text": [
            "Days: 1 Susceptible: 9936 Infected: 84663 Recovered: 5400\n",
            "Days: 10 Susceptible: 9581 Infected: 48784 Recovered: 41633\n",
            "Days: 20 Susceptible: 9367 Infected: 26435 Recovered: 64196\n",
            "Days: 30 Susceptible: 9253 Infected: 14323 Recovered: 76422\n",
            "Days: 40 Susceptible: 9192 Infected: 7760 Recovered: 83046\n",
            "Days: 50 Susceptible: 9159 Infected: 4204 Recovered: 86635\n",
            "Days: 60 Susceptible: 9141 Infected: 2277 Recovered: 88580\n",
            "Days: 70 Susceptible: 9132 Infected: 1234 Recovered: 89633\n",
            "Days: 80 Susceptible: 9127 Infected: 668 Recovered: 90204\n",
            "Days: 90 Susceptible: 9124 Infected: 362 Recovered: 90513\n",
            "Days: 100 Susceptible: 9122 Infected: 196 Recovered: 90680\n",
            "Days: 110 Susceptible: 9121 Infected: 106 Recovered: 90771\n",
            "Days: 120 Susceptible: 9121 Infected: 57 Recovered: 90820\n",
            "Days: 130 Susceptible: 9121 Infected: 31 Recovered: 90847\n",
            "Days: 140 Susceptible: 9121 Infected: 16 Recovered: 90861\n",
            "Days: 150 Susceptible: 9121 Infected: 9 Recovered: 90869\n",
            "Days: 160 Susceptible: 9121 Infected: 4 Recovered: 90873\n",
            "Days: 170 Susceptible: 9121 Infected: 2 Recovered: 90876\n",
            "Days: 180 Susceptible: 9121 Infected: 1 Recovered: 90877\n",
            "Days: 190 Susceptible: 9121 Infected: 0 Recovered: 90878\n",
            "Days: 200 Susceptible: 9120 Infected: 0 Recovered: 90878\n",
            "Days: 210 Susceptible: 9120 Infected: 0 Recovered: 90878\n",
            "Days: 220 Susceptible: 9120 Infected: 0 Recovered: 90878\n",
            "Days: 230 Susceptible: 9120 Infected: 0 Recovered: 90878\n",
            "Days: 240 Susceptible: 9120 Infected: 0 Recovered: 90878\n",
            "Days: 250 Susceptible: 9120 Infected: 0 Recovered: 90878\n",
            "Days: 260 Susceptible: 9120 Infected: 0 Recovered: 90878\n",
            "Days: 270 Susceptible: 9120 Infected: 0 Recovered: 90879\n",
            "Days: 280 Susceptible: 9120 Infected: 0 Recovered: 90879\n",
            "Days: 290 Susceptible: 9120 Infected: 0 Recovered: 90879\n",
            "Days: 300 Susceptible: 9120 Infected: 0 Recovered: 90879\n",
            "Days: 310 Susceptible: 9120 Infected: 0 Recovered: 90879\n",
            "Days: 320 Susceptible: 9120 Infected: 0 Recovered: 90879\n",
            "Days: 330 Susceptible: 9120 Infected: 0 Recovered: 90879\n",
            "Days: 340 Susceptible: 9120 Infected: 0 Recovered: 90879\n",
            "Days: 350 Susceptible: 9120 Infected: 0 Recovered: 90879\n",
            "Days: 360 Susceptible: 9120 Infected: 0 Recovered: 90879\n",
            "Days: 370 Susceptible: 9120 Infected: 0 Recovered: 90879\n",
            "Days: 380 Susceptible: 9120 Infected: 0 Recovered: 90879\n",
            "Days: 390 Susceptible: 9120 Infected: 0 Recovered: 90879\n",
            "Days: 400 Susceptible: 9120 Infected: 0 Recovered: 90879\n",
            "Days: 410 Susceptible: 9120 Infected: 0 Recovered: 90879\n",
            "Days: 420 Susceptible: 9120 Infected: 0 Recovered: 90879\n",
            "Days: 430 Susceptible: 9120 Infected: 0 Recovered: 90879\n",
            "Days: 440 Susceptible: 9120 Infected: 0 Recovered: 90879\n",
            "Days: 450 Susceptible: 9120 Infected: 0 Recovered: 90879\n",
            "Days: 460 Susceptible: 9120 Infected: 0 Recovered: 90879\n",
            "Days: 470 Susceptible: 9120 Infected: 0 Recovered: 90879\n",
            "Days: 480 Susceptible: 9120 Infected: 0 Recovered: 90879\n",
            "Days: 490 Susceptible: 9120 Infected: 0 Recovered: 90879\n",
            "Days: 500 Susceptible: 9120 Infected: 0 Recovered: 90879\n",
            "Days: 510 Susceptible: 9120 Infected: 0 Recovered: 90879\n",
            "Days: 520 Susceptible: 9120 Infected: 0 Recovered: 90879\n",
            "Days: 530 Susceptible: 9120 Infected: 0 Recovered: 90879\n",
            "Days: 540 Susceptible: 9120 Infected: 0 Recovered: 90879\n",
            "Days: 550 Susceptible: 9120 Infected: 0 Recovered: 90879\n",
            "Days: 560 Susceptible: 9120 Infected: 0 Recovered: 90879\n",
            "Days: 570 Susceptible: 9120 Infected: 0 Recovered: 90879\n",
            "Days: 580 Susceptible: 9120 Infected: 0 Recovered: 90879\n",
            "Days: 590 Susceptible: 9120 Infected: 0 Recovered: 90879\n"
          ],
          "name": "stdout"
        }
      ]
    },
    {
      "cell_type": "code",
      "metadata": {
        "colab": {
          "base_uri": "https://localhost:8080/",
          "height": 350
        },
        "id": "-62bCulAHLLf",
        "outputId": "14e9ad79-e8a6-428a-acd4-0998ff551d7b"
      },
      "source": [
        "import  matplotlib.pyplot as plt\n",
        "\n",
        "plt.figure(figsize=(17, 5)) #figure size \n",
        "plt.title('County with small population plot')#Title of plot \n",
        "plt.xlabel('Days')#x axis label\n",
        "plt.ylabel('Population')#y axis label\n",
        "plt.xticks(range(0,len(Days),20)) #Start, end, and number of tick marks on the x axis  \n",
        "plt.plot(Days,Susceptible,label='Susceptible')\n",
        "plt.plot(Days,Infected,label='Infected')\n",
        "plt.plot(Days,Recovered,label='Recovered')\n",
        "plt.legend(); #Displays legend. Semicolon stops read out from appearing above plot\n"
      ],
      "execution_count": null,
      "outputs": [
        {
          "output_type": "display_data",
          "data": {
            "image/png": "[encoded data removed]",
            "text/plain": [
              "<Figure size 1224x360 with 1 Axes>"
            ]
          },
          "metadata": {
            "tags": [],
            "needs_background": "light"
          }
        }
      ]
    },
    {
      "cell_type": "markdown",
      "metadata": {
        "id": "E0ko0cVsrMGh"
      },
      "source": [
        "#Conclusion"
      ]
    },
    {
      "cell_type": "markdown",
      "metadata": {
        "id": "3xu0Q2g68m-R"
      },
      "source": [
        "\n",
        "\n",
        "##Remarks on inputs\n",
        "We wanted to add another input variable called \"E\". This would consist of individuals who have been exposed to the virus but have not necessarily tested postive or showed symptoms and would not be categorized as infected. \n",
        "Diseases such as COVID-19 have an incubation perioid. Adding a category would accommodate for this. \n",
        "\n",
        "We would first need to introduce an incubation rate, lets call it $\\sigma$. This is the rate at which the exposed host becomes infected. \n",
        "We can use the formula: \n",
        "\n",
        "$$E_{t+1}= \\frac{\\beta IS}{N}-\\sigma E$$ where $\\sigma$ is a given incubation rate. \n",
        "\n",
        "Furthermore, by limiting ourselves to a basic recurssion formula for \"S\" \"I\" and \"R\", we are discretizing the output. Instead if we used a differential equation formula, we would have a continuous version of our recursive relationship. \n",
        "\n",
        "In the situation that we want to model, there are many unknown variables. Using a differential equation approach, our intial formulas could help us in coming up with a more accurate result. \n",
        "Here are some examples of how we could set these differential equations up:\n",
        "\n",
        "For suceptible individuals: $$\\frac{dS}{dt} = -\\frac{\\beta SI}{N}$$\n",
        "\n",
        "For infected individuals: $$\\frac{dI}{dt} = \\frac{\\beta SI}{N}-\\gamma I$$\n",
        "For recovered individuals: $$\\frac{dR}{dt} = \\gamma I$$\n",
        "For the proposed exposed individuals: $$\\frac{dE}{dt}=\\frac{\\beta S I}{N} - \\sigma I$$\n",
        "##Unmodeled Components\n",
        "There are several components that we did not account for when using a basic SIR model:\n",
        "\n",
        "\n",
        "*   Exposed individuals would contribute to $\\frac{\\beta I}{N}$ and would rapidly to the spread of infection. \n",
        "*   Some exposed individuals \"E\" might move into the \"R\" category, as sometimes individuals are asymptomatic and show no sign of the disease. \n",
        "*   Some individuals who are infected might not gain perfect immunity and as a result, transition back into the \"S\" susceptible category.\n",
        "*   Flow of individuals is also something this model does not take into account for. As a result, application of this model for a single country would be ill-advised as one cannot account for every citizen traveling. If one considered the whole world to be their model, that this problem could be accounted for.  \n",
        "*   This model also does not account for how \"E\" exposed individuals spreading the virus, as a result of being asymptomatic.\n",
        "\n",
        "\n",
        "\n",
        "\n",
        "\n",
        "\n",
        "\n",
        "\n"
      ]
    },
    {
      "cell_type": "markdown",
      "metadata": {
        "id": "ylZT3aQ-GbrI"
      },
      "source": [
        "#References\n",
        "\n"
      ]
    }
  ]
}